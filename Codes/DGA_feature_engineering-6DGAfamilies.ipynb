{
 "cells": [
  {
   "cell_type": "code",
   "execution_count": 1,
   "metadata": {},
   "outputs": [],
   "source": [
    "import pandas as pd\n",
    "import numpy as np\n",
    "import scipy as sc\n",
    "from scipy.stats import entropy\n",
    "import re\n",
    "from collections import Counter\n",
    "from sklearn import feature_extraction, tree, model_selection, metrics\n",
    "from yellowbrick.features import Rank2D\n",
    "from yellowbrick.features import RadViz\n",
    "from yellowbrick.features import ParallelCoordinates\n",
    "import seaborn as sns\n",
    "import matplotlib.pyplot as plt\n",
    "import matplotlib\n",
    "import tldextract\n",
    "\n"
   ]
  },
  {
   "cell_type": "code",
   "execution_count": 1,
   "metadata": {},
   "outputs": [
    {
     "data": {
      "text/html": [
       "<style>.container { width:100% !important; }</style>"
      ],
      "text/plain": [
       "<IPython.core.display.HTML object>"
      ]
     },
     "metadata": {},
     "output_type": "display_data"
    }
   ],
   "source": [
    "from IPython.core.display import display, HTML\n",
    "display(HTML(\"<style>.container { width:100% !important; }</style>\"))"
   ]
  },
  {
   "cell_type": "code",
   "execution_count": 5,
   "metadata": {},
   "outputs": [],
   "source": [
    "#  11392240 malicious data from https://data.netlab.360.com/dga/\n",
    "malicious=pd.read_csv('dga.txt', delimiter = \"\\t\", header=None, names=['DGA family', '.com', 'Domian, Start', 'end of valid time(UTC)'])\n",
    "#malicious.shape\n",
    "#malicious.sample(5)\n",
    "#malicious['DGA family'].value_counts()"
   ]
  },
  {
   "cell_type": "code",
   "execution_count": 6,
   "metadata": {},
   "outputs": [],
   "source": [
    "#To include domain names from various DGA familes\n",
    "malicious_all = malicious.loc[malicious['DGA family'].isin(['tinba', 'pykspa_v1', 'simda', 'ramnit', 'gameover', 'ranbyus'])]"
   ]
  },
  {
   "cell_type": "code",
   "execution_count": 7,
   "metadata": {},
   "outputs": [
    {
     "data": {
      "text/html": [
       "<div>\n",
       "<style scoped>\n",
       "    .dataframe tbody tr th:only-of-type {\n",
       "        vertical-align: middle;\n",
       "    }\n",
       "\n",
       "    .dataframe tbody tr th {\n",
       "        vertical-align: top;\n",
       "    }\n",
       "\n",
       "    .dataframe thead th {\n",
       "        text-align: right;\n",
       "    }\n",
       "</style>\n",
       "<table border=\"1\" class=\"dataframe\">\n",
       "  <thead>\n",
       "    <tr style=\"text-align: right;\">\n",
       "      <th></th>\n",
       "      <th>DGA family</th>\n",
       "      <th>.com</th>\n",
       "      <th>Domian, Start</th>\n",
       "      <th>end of valid time(UTC)</th>\n",
       "    </tr>\n",
       "  </thead>\n",
       "  <tbody>\n",
       "    <tr>\n",
       "      <th>877286</th>\n",
       "      <td>pykspa_v1</td>\n",
       "      <td>kojenufqbex.org</td>\n",
       "      <td>1970-01-01 00:00:00</td>\n",
       "      <td>2030-01-01 00:00:00</td>\n",
       "    </tr>\n",
       "    <tr>\n",
       "      <th>894119</th>\n",
       "      <td>pykspa_v1</td>\n",
       "      <td>uiukno.info</td>\n",
       "      <td>1970-01-01 00:00:00</td>\n",
       "      <td>2030-01-01 00:00:00</td>\n",
       "    </tr>\n",
       "    <tr>\n",
       "      <th>1330759</th>\n",
       "      <td>tinba</td>\n",
       "      <td>wxcrcspuufbj.biz</td>\n",
       "      <td>1970-01-01 00:00:00</td>\n",
       "      <td>2030-01-01 00:00:00</td>\n",
       "    </tr>\n",
       "    <tr>\n",
       "      <th>897176</th>\n",
       "      <td>pykspa_v1</td>\n",
       "      <td>wfsgzkdsholapet.com</td>\n",
       "      <td>1970-01-01 00:00:00</td>\n",
       "      <td>2030-01-01 00:00:00</td>\n",
       "    </tr>\n",
       "    <tr>\n",
       "      <th>565670</th>\n",
       "      <td>simda</td>\n",
       "      <td>fodyfuzexyp.eu</td>\n",
       "      <td>1970-01-01 00:00:00</td>\n",
       "      <td>2030-01-01 00:00:00</td>\n",
       "    </tr>\n",
       "    <tr>\n",
       "      <th>896307</th>\n",
       "      <td>pykspa_v1</td>\n",
       "      <td>vqtchwfox.com</td>\n",
       "      <td>1970-01-01 00:00:00</td>\n",
       "      <td>2030-01-01 00:00:00</td>\n",
       "    </tr>\n",
       "    <tr>\n",
       "      <th>560492</th>\n",
       "      <td>tinba</td>\n",
       "      <td>xsgbwgfnmvry.ru</td>\n",
       "      <td>1970-01-01 00:00:00</td>\n",
       "      <td>2030-01-01 00:00:00</td>\n",
       "    </tr>\n",
       "    <tr>\n",
       "      <th>605349</th>\n",
       "      <td>ramnit</td>\n",
       "      <td>kubgotaecwche.com</td>\n",
       "      <td>1970-01-01 00:00:00</td>\n",
       "      <td>2030-01-01 00:00:00</td>\n",
       "    </tr>\n",
       "    <tr>\n",
       "      <th>547179</th>\n",
       "      <td>tinba</td>\n",
       "      <td>jsiyiedeyfgo.info</td>\n",
       "      <td>1970-01-01 00:00:00</td>\n",
       "      <td>2030-01-01 00:00:00</td>\n",
       "    </tr>\n",
       "    <tr>\n",
       "      <th>602700</th>\n",
       "      <td>tinba</td>\n",
       "      <td>iyyuiropmbfi.ru</td>\n",
       "      <td>1970-01-01 00:00:00</td>\n",
       "      <td>2030-01-01 00:00:00</td>\n",
       "    </tr>\n",
       "  </tbody>\n",
       "</table>\n",
       "</div>"
      ],
      "text/plain": [
       "        DGA family                 .com        Domian, Start  \\\n",
       "877286   pykspa_v1      kojenufqbex.org  1970-01-01 00:00:00   \n",
       "894119   pykspa_v1          uiukno.info  1970-01-01 00:00:00   \n",
       "1330759      tinba     wxcrcspuufbj.biz  1970-01-01 00:00:00   \n",
       "897176   pykspa_v1  wfsgzkdsholapet.com  1970-01-01 00:00:00   \n",
       "565670       simda       fodyfuzexyp.eu  1970-01-01 00:00:00   \n",
       "896307   pykspa_v1        vqtchwfox.com  1970-01-01 00:00:00   \n",
       "560492       tinba      xsgbwgfnmvry.ru  1970-01-01 00:00:00   \n",
       "605349      ramnit    kubgotaecwche.com  1970-01-01 00:00:00   \n",
       "547179       tinba    jsiyiedeyfgo.info  1970-01-01 00:00:00   \n",
       "602700       tinba      iyyuiropmbfi.ru  1970-01-01 00:00:00   \n",
       "\n",
       "        end of valid time(UTC)  \n",
       "877286     2030-01-01 00:00:00  \n",
       "894119     2030-01-01 00:00:00  \n",
       "1330759    2030-01-01 00:00:00  \n",
       "897176     2030-01-01 00:00:00  \n",
       "565670     2030-01-01 00:00:00  \n",
       "896307     2030-01-01 00:00:00  \n",
       "560492     2030-01-01 00:00:00  \n",
       "605349     2030-01-01 00:00:00  \n",
       "547179     2030-01-01 00:00:00  \n",
       "602700     2030-01-01 00:00:00  "
      ]
     },
     "execution_count": 7,
     "metadata": {},
     "output_type": "execute_result"
    }
   ],
   "source": [
    "malicious_all.sample(10)"
   ]
  },
  {
   "cell_type": "code",
   "execution_count": 8,
   "metadata": {},
   "outputs": [
    {
     "data": {
      "text/plain": [
       "(213695, 4)"
      ]
     },
     "execution_count": 8,
     "metadata": {},
     "output_type": "execute_result"
    }
   ],
   "source": [
    "malicious_all.shape"
   ]
  },
  {
   "cell_type": "code",
   "execution_count": 9,
   "metadata": {},
   "outputs": [],
   "source": [
    "# Assign 1 'IsDGA'column for malicious domain names\n",
    "malicious_all.insert(loc=0, column='IsDGA', value=1)"
   ]
  },
  {
   "cell_type": "code",
   "execution_count": 10,
   "metadata": {},
   "outputs": [
    {
     "data": {
      "text/html": [
       "<div>\n",
       "<style scoped>\n",
       "    .dataframe tbody tr th:only-of-type {\n",
       "        vertical-align: middle;\n",
       "    }\n",
       "\n",
       "    .dataframe tbody tr th {\n",
       "        vertical-align: top;\n",
       "    }\n",
       "\n",
       "    .dataframe thead th {\n",
       "        text-align: right;\n",
       "    }\n",
       "</style>\n",
       "<table border=\"1\" class=\"dataframe\">\n",
       "  <thead>\n",
       "    <tr style=\"text-align: right;\">\n",
       "      <th></th>\n",
       "      <th>IsDGA</th>\n",
       "      <th>DGA family</th>\n",
       "      <th>.com</th>\n",
       "      <th>Domian, Start</th>\n",
       "      <th>end of valid time(UTC)</th>\n",
       "    </tr>\n",
       "  </thead>\n",
       "  <tbody>\n",
       "    <tr>\n",
       "      <th>617681</th>\n",
       "      <td>1</td>\n",
       "      <td>simda</td>\n",
       "      <td>tujereq.info</td>\n",
       "      <td>1970-01-01 00:00:00</td>\n",
       "      <td>2030-01-01 00:00:00</td>\n",
       "    </tr>\n",
       "    <tr>\n",
       "      <th>1352846</th>\n",
       "      <td>1</td>\n",
       "      <td>tinba</td>\n",
       "      <td>uhhudeefdspq.ru</td>\n",
       "      <td>1970-01-01 00:00:00</td>\n",
       "      <td>2030-01-01 00:00:00</td>\n",
       "    </tr>\n",
       "    <tr>\n",
       "      <th>604728</th>\n",
       "      <td>1</td>\n",
       "      <td>ramnit</td>\n",
       "      <td>hyhvurkgbedmd.com</td>\n",
       "      <td>1970-01-01 00:00:00</td>\n",
       "      <td>2030-01-01 00:00:00</td>\n",
       "    </tr>\n",
       "    <tr>\n",
       "      <th>873284</th>\n",
       "      <td>1</td>\n",
       "      <td>pykspa_v1</td>\n",
       "      <td>iizkryfqbex.org</td>\n",
       "      <td>1970-01-01 00:00:00</td>\n",
       "      <td>2030-01-01 00:00:00</td>\n",
       "    </tr>\n",
       "    <tr>\n",
       "      <th>1354761</th>\n",
       "      <td>1</td>\n",
       "      <td>simda</td>\n",
       "      <td>pujixug.in</td>\n",
       "      <td>1970-01-01 00:00:00</td>\n",
       "      <td>2030-01-01 00:00:00</td>\n",
       "    </tr>\n",
       "  </tbody>\n",
       "</table>\n",
       "</div>"
      ],
      "text/plain": [
       "         IsDGA DGA family               .com        Domian, Start  \\\n",
       "617681       1      simda       tujereq.info  1970-01-01 00:00:00   \n",
       "1352846      1      tinba    uhhudeefdspq.ru  1970-01-01 00:00:00   \n",
       "604728       1     ramnit  hyhvurkgbedmd.com  1970-01-01 00:00:00   \n",
       "873284       1  pykspa_v1    iizkryfqbex.org  1970-01-01 00:00:00   \n",
       "1354761      1      simda         pujixug.in  1970-01-01 00:00:00   \n",
       "\n",
       "        end of valid time(UTC)  \n",
       "617681     2030-01-01 00:00:00  \n",
       "1352846    2030-01-01 00:00:00  \n",
       "604728     2030-01-01 00:00:00  \n",
       "873284     2030-01-01 00:00:00  \n",
       "1354761    2030-01-01 00:00:00  "
      ]
     },
     "execution_count": 10,
     "metadata": {},
     "output_type": "execute_result"
    }
   ],
   "source": [
    "malicious_all.sample(5)"
   ]
  },
  {
   "cell_type": "code",
   "execution_count": 11,
   "metadata": {},
   "outputs": [],
   "source": [
    "# malicious_all_final contains only 'IsDGA' and '.com' columns\n",
    "malicious_all_final=malicious_all.loc[:, ['IsDGA', '.com']]"
   ]
  },
  {
   "cell_type": "code",
   "execution_count": 12,
   "metadata": {},
   "outputs": [
    {
     "data": {
      "text/plain": [
       "(213695, 2)"
      ]
     },
     "execution_count": 12,
     "metadata": {},
     "output_type": "execute_result"
    }
   ],
   "source": [
    "malicious_all_final.shape"
   ]
  },
  {
   "cell_type": "code",
   "execution_count": 13,
   "metadata": {},
   "outputs": [
    {
     "data": {
      "text/plain": [
       "(999999, 2)"
      ]
     },
     "execution_count": 13,
     "metadata": {},
     "output_type": "execute_result"
    }
   ],
   "source": [
    "#one million benign data from https://data.netlab.360.com/feeds/dga/dga.txt\n",
    "benign=pd.read_csv('top-1m.csv')\n",
    "benign.shape"
   ]
  },
  {
   "cell_type": "code",
   "execution_count": 14,
   "metadata": {},
   "outputs": [
    {
     "data": {
      "text/html": [
       "<div>\n",
       "<style scoped>\n",
       "    .dataframe tbody tr th:only-of-type {\n",
       "        vertical-align: middle;\n",
       "    }\n",
       "\n",
       "    .dataframe tbody tr th {\n",
       "        vertical-align: top;\n",
       "    }\n",
       "\n",
       "    .dataframe thead th {\n",
       "        text-align: right;\n",
       "    }\n",
       "</style>\n",
       "<table border=\"1\" class=\"dataframe\">\n",
       "  <thead>\n",
       "    <tr style=\"text-align: right;\">\n",
       "      <th></th>\n",
       "      <th>1</th>\n",
       "      <th>google.com</th>\n",
       "    </tr>\n",
       "  </thead>\n",
       "  <tbody>\n",
       "    <tr>\n",
       "      <th>76244</th>\n",
       "      <td>76246</td>\n",
       "      <td>www.codecademy.com</td>\n",
       "    </tr>\n",
       "    <tr>\n",
       "      <th>568139</th>\n",
       "      <td>568141</td>\n",
       "      <td>1.t-news2.online</td>\n",
       "    </tr>\n",
       "    <tr>\n",
       "      <th>363510</th>\n",
       "      <td>363512</td>\n",
       "      <td>www.webyog.com</td>\n",
       "    </tr>\n",
       "    <tr>\n",
       "      <th>915190</th>\n",
       "      <td>915192</td>\n",
       "      <td>escb21501.webex.com</td>\n",
       "    </tr>\n",
       "    <tr>\n",
       "      <th>925740</th>\n",
       "      <td>925742</td>\n",
       "      <td>m.bidcenter.com.cn</td>\n",
       "    </tr>\n",
       "    <tr>\n",
       "      <th>390604</th>\n",
       "      <td>390606</td>\n",
       "      <td>a1976.z.akamai.net</td>\n",
       "    </tr>\n",
       "    <tr>\n",
       "      <th>751294</th>\n",
       "      <td>751296</td>\n",
       "      <td>nicecrm.net</td>\n",
       "    </tr>\n",
       "    <tr>\n",
       "      <th>584512</th>\n",
       "      <td>584514</td>\n",
       "      <td>clicknetfacil.com.br</td>\n",
       "    </tr>\n",
       "    <tr>\n",
       "      <th>199348</th>\n",
       "      <td>199350</td>\n",
       "      <td>dk3.lunrac.com</td>\n",
       "    </tr>\n",
       "    <tr>\n",
       "      <th>926872</th>\n",
       "      <td>926874</td>\n",
       "      <td>masterhost.tech</td>\n",
       "    </tr>\n",
       "  </tbody>\n",
       "</table>\n",
       "</div>"
      ],
      "text/plain": [
       "             1            google.com\n",
       "76244    76246    www.codecademy.com\n",
       "568139  568141      1.t-news2.online\n",
       "363510  363512        www.webyog.com\n",
       "915190  915192   escb21501.webex.com\n",
       "925740  925742    m.bidcenter.com.cn\n",
       "390604  390606    a1976.z.akamai.net\n",
       "751294  751296           nicecrm.net\n",
       "584512  584514  clicknetfacil.com.br\n",
       "199348  199350        dk3.lunrac.com\n",
       "926872  926874       masterhost.tech"
      ]
     },
     "execution_count": 14,
     "metadata": {},
     "output_type": "execute_result"
    }
   ],
   "source": [
    "benign.sample(10)"
   ]
  },
  {
   "cell_type": "code",
   "execution_count": 15,
   "metadata": {},
   "outputs": [],
   "source": [
    "# Assign benign domains with 0 'IsDGA' column\n",
    "benign.insert(loc=0, column='IsDGA', value=0)"
   ]
  },
  {
   "cell_type": "code",
   "execution_count": 16,
   "metadata": {
    "scrolled": true
   },
   "outputs": [
    {
     "data": {
      "text/html": [
       "<div>\n",
       "<style scoped>\n",
       "    .dataframe tbody tr th:only-of-type {\n",
       "        vertical-align: middle;\n",
       "    }\n",
       "\n",
       "    .dataframe tbody tr th {\n",
       "        vertical-align: top;\n",
       "    }\n",
       "\n",
       "    .dataframe thead th {\n",
       "        text-align: right;\n",
       "    }\n",
       "</style>\n",
       "<table border=\"1\" class=\"dataframe\">\n",
       "  <thead>\n",
       "    <tr style=\"text-align: right;\">\n",
       "      <th></th>\n",
       "      <th>IsDGA</th>\n",
       "      <th>1</th>\n",
       "      <th>google.com</th>\n",
       "    </tr>\n",
       "  </thead>\n",
       "  <tbody>\n",
       "    <tr>\n",
       "      <th>986077</th>\n",
       "      <td>0</td>\n",
       "      <td>986079</td>\n",
       "      <td>ip241706759.ahcdn.com</td>\n",
       "    </tr>\n",
       "    <tr>\n",
       "      <th>491187</th>\n",
       "      <td>0</td>\n",
       "      <td>491189</td>\n",
       "      <td>ysmwomagis.eu</td>\n",
       "    </tr>\n",
       "    <tr>\n",
       "      <th>433022</th>\n",
       "      <td>0</td>\n",
       "      <td>433024</td>\n",
       "      <td>mbrs.ssm.com.my</td>\n",
       "    </tr>\n",
       "    <tr>\n",
       "      <th>40050</th>\n",
       "      <td>0</td>\n",
       "      <td>40052</td>\n",
       "      <td>ag.innovid.com.akadns.net</td>\n",
       "    </tr>\n",
       "    <tr>\n",
       "      <th>940302</th>\n",
       "      <td>0</td>\n",
       "      <td>940304</td>\n",
       "      <td>smetrics.rlicorp.com</td>\n",
       "    </tr>\n",
       "  </tbody>\n",
       "</table>\n",
       "</div>"
      ],
      "text/plain": [
       "        IsDGA       1                 google.com\n",
       "986077      0  986079      ip241706759.ahcdn.com\n",
       "491187      0  491189              ysmwomagis.eu\n",
       "433022      0  433024            mbrs.ssm.com.my\n",
       "40050       0   40052  ag.innovid.com.akadns.net\n",
       "940302      0  940304       smetrics.rlicorp.com"
      ]
     },
     "execution_count": 16,
     "metadata": {},
     "output_type": "execute_result"
    }
   ],
   "source": [
    "benign.sample(5)"
   ]
  },
  {
   "cell_type": "code",
   "execution_count": 17,
   "metadata": {},
   "outputs": [],
   "source": [
    "benign = benign.rename(columns={'google.com':'.com'})"
   ]
  },
  {
   "cell_type": "code",
   "execution_count": 18,
   "metadata": {},
   "outputs": [
    {
     "data": {
      "text/plain": [
       "(213695, 2)"
      ]
     },
     "execution_count": 18,
     "metadata": {},
     "output_type": "execute_result"
    }
   ],
   "source": [
    "benign_final=benign.loc[:213694, ['IsDGA', '.com']]\n",
    "benign_final.shape"
   ]
  },
  {
   "cell_type": "code",
   "execution_count": 19,
   "metadata": {},
   "outputs": [
    {
     "data": {
      "text/html": [
       "<div>\n",
       "<style scoped>\n",
       "    .dataframe tbody tr th:only-of-type {\n",
       "        vertical-align: middle;\n",
       "    }\n",
       "\n",
       "    .dataframe tbody tr th {\n",
       "        vertical-align: top;\n",
       "    }\n",
       "\n",
       "    .dataframe thead th {\n",
       "        text-align: right;\n",
       "    }\n",
       "</style>\n",
       "<table border=\"1\" class=\"dataframe\">\n",
       "  <thead>\n",
       "    <tr style=\"text-align: right;\">\n",
       "      <th></th>\n",
       "      <th>IsDGA</th>\n",
       "      <th>.com</th>\n",
       "    </tr>\n",
       "  </thead>\n",
       "  <tbody>\n",
       "    <tr>\n",
       "      <th>71300</th>\n",
       "      <td>0</td>\n",
       "      <td>dict.cn</td>\n",
       "    </tr>\n",
       "    <tr>\n",
       "      <th>41297</th>\n",
       "      <td>0</td>\n",
       "      <td>images.classdojo.com</td>\n",
       "    </tr>\n",
       "    <tr>\n",
       "      <th>175140</th>\n",
       "      <td>0</td>\n",
       "      <td>afra2-sni.wbx2.com</td>\n",
       "    </tr>\n",
       "    <tr>\n",
       "      <th>34232</th>\n",
       "      <td>0</td>\n",
       "      <td>xz0123.com</td>\n",
       "    </tr>\n",
       "    <tr>\n",
       "      <th>114601</th>\n",
       "      <td>0</td>\n",
       "      <td>external-media80.public.wdfwm-a-3.prod.infra.w...</td>\n",
       "    </tr>\n",
       "  </tbody>\n",
       "</table>\n",
       "</div>"
      ],
      "text/plain": [
       "        IsDGA                                               .com\n",
       "71300       0                                            dict.cn\n",
       "41297       0                               images.classdojo.com\n",
       "175140      0                                 afra2-sni.wbx2.com\n",
       "34232       0                                         xz0123.com\n",
       "114601      0  external-media80.public.wdfwm-a-3.prod.infra.w..."
      ]
     },
     "execution_count": 19,
     "metadata": {},
     "output_type": "execute_result"
    }
   ],
   "source": [
    "benign_final.sample(5)"
   ]
  },
  {
   "cell_type": "code",
   "execution_count": 20,
   "metadata": {},
   "outputs": [],
   "source": [
    "# Merge df malicious and df benign \n",
    "domain_final = pd.concat( [benign_final, malicious_all_final])"
   ]
  },
  {
   "cell_type": "code",
   "execution_count": 21,
   "metadata": {},
   "outputs": [
    {
     "data": {
      "text/html": [
       "<div>\n",
       "<style scoped>\n",
       "    .dataframe tbody tr th:only-of-type {\n",
       "        vertical-align: middle;\n",
       "    }\n",
       "\n",
       "    .dataframe tbody tr th {\n",
       "        vertical-align: top;\n",
       "    }\n",
       "\n",
       "    .dataframe thead th {\n",
       "        text-align: right;\n",
       "    }\n",
       "</style>\n",
       "<table border=\"1\" class=\"dataframe\">\n",
       "  <thead>\n",
       "    <tr style=\"text-align: right;\">\n",
       "      <th></th>\n",
       "      <th>IsDGA</th>\n",
       "      <th>.com</th>\n",
       "    </tr>\n",
       "  </thead>\n",
       "  <tbody>\n",
       "    <tr>\n",
       "      <th>102793</th>\n",
       "      <td>0</td>\n",
       "      <td>m14.ueiwwgi.com</td>\n",
       "    </tr>\n",
       "    <tr>\n",
       "      <th>194160</th>\n",
       "      <td>0</td>\n",
       "      <td>nds.qzone.qq.com</td>\n",
       "    </tr>\n",
       "    <tr>\n",
       "      <th>620266</th>\n",
       "      <td>1</td>\n",
       "      <td>disowes.info</td>\n",
       "    </tr>\n",
       "    <tr>\n",
       "      <th>563920</th>\n",
       "      <td>1</td>\n",
       "      <td>mssyunvqqyxw.com</td>\n",
       "    </tr>\n",
       "    <tr>\n",
       "      <th>622917</th>\n",
       "      <td>1</td>\n",
       "      <td>qjrrcjqrgdlr.club</td>\n",
       "    </tr>\n",
       "    <tr>\n",
       "      <th>583285</th>\n",
       "      <td>1</td>\n",
       "      <td>bbrhurjiqenc.com</td>\n",
       "    </tr>\n",
       "    <tr>\n",
       "      <th>1340512</th>\n",
       "      <td>1</td>\n",
       "      <td>ucrqllyspghare.com</td>\n",
       "    </tr>\n",
       "    <tr>\n",
       "      <th>872852</th>\n",
       "      <td>1</td>\n",
       "      <td>ieyloqeoya.biz</td>\n",
       "    </tr>\n",
       "    <tr>\n",
       "      <th>1335106</th>\n",
       "      <td>1</td>\n",
       "      <td>xfiaiujixl.com</td>\n",
       "    </tr>\n",
       "    <tr>\n",
       "      <th>885354</th>\n",
       "      <td>1</td>\n",
       "      <td>oyyosk.net</td>\n",
       "    </tr>\n",
       "    <tr>\n",
       "      <th>603569</th>\n",
       "      <td>1</td>\n",
       "      <td>sfeqiludisgp.pw</td>\n",
       "    </tr>\n",
       "    <tr>\n",
       "      <th>181562</th>\n",
       "      <td>0</td>\n",
       "      <td>m34.atfwuia.com</td>\n",
       "    </tr>\n",
       "    <tr>\n",
       "      <th>129493</th>\n",
       "      <td>0</td>\n",
       "      <td>m42.iqwfmfi.net</td>\n",
       "    </tr>\n",
       "    <tr>\n",
       "      <th>107378</th>\n",
       "      <td>0</td>\n",
       "      <td>pmc-em.ey.com</td>\n",
       "    </tr>\n",
       "    <tr>\n",
       "      <th>61532</th>\n",
       "      <td>0</td>\n",
       "      <td>cdn.onlyfans.com</td>\n",
       "    </tr>\n",
       "    <tr>\n",
       "      <th>30469</th>\n",
       "      <td>0</td>\n",
       "      <td>other.upqzfile.com</td>\n",
       "    </tr>\n",
       "    <tr>\n",
       "      <th>590503</th>\n",
       "      <td>1</td>\n",
       "      <td>ldtwfimrymnn.pw</td>\n",
       "    </tr>\n",
       "    <tr>\n",
       "      <th>64754</th>\n",
       "      <td>0</td>\n",
       "      <td>ppcc.inter.qiyi.com</td>\n",
       "    </tr>\n",
       "    <tr>\n",
       "      <th>868494</th>\n",
       "      <td>1</td>\n",
       "      <td>fnjadkn.com</td>\n",
       "    </tr>\n",
       "    <tr>\n",
       "      <th>82820</th>\n",
       "      <td>0</td>\n",
       "      <td>fstream.yshyqxx.com</td>\n",
       "    </tr>\n",
       "  </tbody>\n",
       "</table>\n",
       "</div>"
      ],
      "text/plain": [
       "         IsDGA                 .com\n",
       "102793       0      m14.ueiwwgi.com\n",
       "194160       0     nds.qzone.qq.com\n",
       "620266       1         disowes.info\n",
       "563920       1     mssyunvqqyxw.com\n",
       "622917       1    qjrrcjqrgdlr.club\n",
       "583285       1     bbrhurjiqenc.com\n",
       "1340512      1   ucrqllyspghare.com\n",
       "872852       1       ieyloqeoya.biz\n",
       "1335106      1       xfiaiujixl.com\n",
       "885354       1           oyyosk.net\n",
       "603569       1      sfeqiludisgp.pw\n",
       "181562       0      m34.atfwuia.com\n",
       "129493       0      m42.iqwfmfi.net\n",
       "107378       0        pmc-em.ey.com\n",
       "61532        0     cdn.onlyfans.com\n",
       "30469        0   other.upqzfile.com\n",
       "590503       1      ldtwfimrymnn.pw\n",
       "64754        0  ppcc.inter.qiyi.com\n",
       "868494       1          fnjadkn.com\n",
       "82820        0  fstream.yshyqxx.com"
      ]
     },
     "execution_count": 21,
     "metadata": {},
     "output_type": "execute_result"
    }
   ],
   "source": [
    "domain_final.sample(20)"
   ]
  },
  {
   "cell_type": "code",
   "execution_count": 22,
   "metadata": {},
   "outputs": [
    {
     "data": {
      "text/plain": [
       "(427390, 2)"
      ]
     },
     "execution_count": 22,
     "metadata": {},
     "output_type": "execute_result"
    }
   ],
   "source": [
    "domain_final.shape"
   ]
  },
  {
   "cell_type": "code",
   "execution_count": 23,
   "metadata": {},
   "outputs": [
    {
     "data": {
      "text/plain": [
       "1    213695\n",
       "0    213695\n",
       "Name: IsDGA, dtype: int64"
      ]
     },
     "execution_count": 23,
     "metadata": {},
     "output_type": "execute_result"
    }
   ],
   "source": [
    "domain_final['IsDGA'].value_counts()"
   ]
  },
  {
   "cell_type": "code",
   "execution_count": 24,
   "metadata": {},
   "outputs": [],
   "source": [
    "#To separate only domain names into Domain column using tldextract\n",
    "domain_final['Domain'] = domain_final['.com'].apply(lambda url: tldextract.extract(url).domain)"
   ]
  },
  {
   "cell_type": "code",
   "execution_count": 25,
   "metadata": {},
   "outputs": [
    {
     "data": {
      "text/html": [
       "<div>\n",
       "<style scoped>\n",
       "    .dataframe tbody tr th:only-of-type {\n",
       "        vertical-align: middle;\n",
       "    }\n",
       "\n",
       "    .dataframe tbody tr th {\n",
       "        vertical-align: top;\n",
       "    }\n",
       "\n",
       "    .dataframe thead th {\n",
       "        text-align: right;\n",
       "    }\n",
       "</style>\n",
       "<table border=\"1\" class=\"dataframe\">\n",
       "  <thead>\n",
       "    <tr style=\"text-align: right;\">\n",
       "      <th></th>\n",
       "      <th>IsDGA</th>\n",
       "      <th>.com</th>\n",
       "      <th>Domain</th>\n",
       "    </tr>\n",
       "  </thead>\n",
       "  <tbody>\n",
       "    <tr>\n",
       "      <th>126603</th>\n",
       "      <td>0</td>\n",
       "      <td>m16.ihmbgfp.net</td>\n",
       "      <td>ihmbgfp</td>\n",
       "    </tr>\n",
       "    <tr>\n",
       "      <th>25282</th>\n",
       "      <td>1</td>\n",
       "      <td>181b6zr1b68u17s4i0di1rjh0i5.org</td>\n",
       "      <td>181b6zr1b68u17s4i0di1rjh0i5</td>\n",
       "    </tr>\n",
       "    <tr>\n",
       "      <th>579159</th>\n",
       "      <td>1</td>\n",
       "      <td>slohffgdeuut.com</td>\n",
       "      <td>slohffgdeuut</td>\n",
       "    </tr>\n",
       "    <tr>\n",
       "      <th>29136</th>\n",
       "      <td>0</td>\n",
       "      <td>cs629.wpc.lambdacdn.net</td>\n",
       "      <td>lambdacdn</td>\n",
       "    </tr>\n",
       "    <tr>\n",
       "      <th>580399</th>\n",
       "      <td>1</td>\n",
       "      <td>mlsnbskeelwv.pw</td>\n",
       "      <td>mlsnbskeelwv</td>\n",
       "    </tr>\n",
       "    <tr>\n",
       "      <th>19250</th>\n",
       "      <td>0</td>\n",
       "      <td>acs.aliexpress.com</td>\n",
       "      <td>aliexpress</td>\n",
       "    </tr>\n",
       "    <tr>\n",
       "      <th>672311</th>\n",
       "      <td>1</td>\n",
       "      <td>mrschefgtpxm.net</td>\n",
       "      <td>mrschefgtpxm</td>\n",
       "    </tr>\n",
       "    <tr>\n",
       "      <th>898036</th>\n",
       "      <td>1</td>\n",
       "      <td>woakfeiq.biz</td>\n",
       "      <td>woakfeiq</td>\n",
       "    </tr>\n",
       "    <tr>\n",
       "      <th>878041</th>\n",
       "      <td>1</td>\n",
       "      <td>kvjpzyfqbex.cc</td>\n",
       "      <td>kvjpzyfqbex</td>\n",
       "    </tr>\n",
       "    <tr>\n",
       "      <th>559200</th>\n",
       "      <td>1</td>\n",
       "      <td>brstpvrtkcpp.in</td>\n",
       "      <td>brstpvrtkcpp</td>\n",
       "    </tr>\n",
       "  </tbody>\n",
       "</table>\n",
       "</div>"
      ],
      "text/plain": [
       "        IsDGA                             .com                       Domain\n",
       "126603      0                  m16.ihmbgfp.net                      ihmbgfp\n",
       "25282       1  181b6zr1b68u17s4i0di1rjh0i5.org  181b6zr1b68u17s4i0di1rjh0i5\n",
       "579159      1                 slohffgdeuut.com                 slohffgdeuut\n",
       "29136       0          cs629.wpc.lambdacdn.net                    lambdacdn\n",
       "580399      1                  mlsnbskeelwv.pw                 mlsnbskeelwv\n",
       "19250       0               acs.aliexpress.com                   aliexpress\n",
       "672311      1                 mrschefgtpxm.net                 mrschefgtpxm\n",
       "898036      1                     woakfeiq.biz                     woakfeiq\n",
       "878041      1                   kvjpzyfqbex.cc                  kvjpzyfqbex\n",
       "559200      1                  brstpvrtkcpp.in                 brstpvrtkcpp"
      ]
     },
     "execution_count": 25,
     "metadata": {},
     "output_type": "execute_result"
    }
   ],
   "source": [
    "domain_final.sample(10)"
   ]
  },
  {
   "cell_type": "code",
   "execution_count": 26,
   "metadata": {},
   "outputs": [],
   "source": [
    "# Add two features: the length of domain  and digits\n",
    "domain_final['Length'] = domain_final['Domain'].str.len()\n",
    "domain_final['Numbers'] = domain_final['Domain'].str.count('[0-9]')"
   ]
  },
  {
   "cell_type": "code",
   "execution_count": 27,
   "metadata": {},
   "outputs": [],
   "source": [
    "#Calculate Shannon's entropy\n",
    "def calcEntropy(x):\n",
    "    p, lens = Counter(x), np.float(len(x))\n",
    "    return -sum(count/lens * np.log2(count/lens) for count in p.values())"
   ]
  },
  {
   "cell_type": "code",
   "execution_count": 28,
   "metadata": {},
   "outputs": [],
   "source": [
    "#Add entropy feature\n",
    "domain_final['Entropy'] = [calcEntropy(x) for x in domain_final['Domain']]"
   ]
  },
  {
   "cell_type": "code",
   "execution_count": 29,
   "metadata": {},
   "outputs": [
    {
     "data": {
      "text/html": [
       "<div>\n",
       "<style scoped>\n",
       "    .dataframe tbody tr th:only-of-type {\n",
       "        vertical-align: middle;\n",
       "    }\n",
       "\n",
       "    .dataframe tbody tr th {\n",
       "        vertical-align: top;\n",
       "    }\n",
       "\n",
       "    .dataframe thead th {\n",
       "        text-align: right;\n",
       "    }\n",
       "</style>\n",
       "<table border=\"1\" class=\"dataframe\">\n",
       "  <thead>\n",
       "    <tr style=\"text-align: right;\">\n",
       "      <th></th>\n",
       "      <th>IsDGA</th>\n",
       "      <th>.com</th>\n",
       "      <th>Domain</th>\n",
       "      <th>Length</th>\n",
       "      <th>Numbers</th>\n",
       "      <th>Entropy</th>\n",
       "    </tr>\n",
       "  </thead>\n",
       "  <tbody>\n",
       "    <tr>\n",
       "      <th>1335144</th>\n",
       "      <td>1</td>\n",
       "      <td>jqowgilsuqc.com</td>\n",
       "      <td>jqowgilsuqc</td>\n",
       "      <td>11</td>\n",
       "      <td>0</td>\n",
       "      <td>3.277613</td>\n",
       "    </tr>\n",
       "    <tr>\n",
       "      <th>161296</th>\n",
       "      <td>0</td>\n",
       "      <td>ev.kck.st</td>\n",
       "      <td>kck</td>\n",
       "      <td>3</td>\n",
       "      <td>0</td>\n",
       "      <td>0.918296</td>\n",
       "    </tr>\n",
       "    <tr>\n",
       "      <th>30045</th>\n",
       "      <td>1</td>\n",
       "      <td>6ly1b3mlrqns18jlk7n1invidu.org</td>\n",
       "      <td>6ly1b3mlrqns18jlk7n1invidu</td>\n",
       "      <td>26</td>\n",
       "      <td>7</td>\n",
       "      <td>4.074876</td>\n",
       "    </tr>\n",
       "    <tr>\n",
       "      <th>859228</th>\n",
       "      <td>1</td>\n",
       "      <td>ageysaiq.net</td>\n",
       "      <td>ageysaiq</td>\n",
       "      <td>8</td>\n",
       "      <td>0</td>\n",
       "      <td>2.750000</td>\n",
       "    </tr>\n",
       "    <tr>\n",
       "      <th>141716</th>\n",
       "      <td>0</td>\n",
       "      <td>m37.rdenyxw.com</td>\n",
       "      <td>rdenyxw</td>\n",
       "      <td>7</td>\n",
       "      <td>0</td>\n",
       "      <td>2.807355</td>\n",
       "    </tr>\n",
       "  </tbody>\n",
       "</table>\n",
       "</div>"
      ],
      "text/plain": [
       "         IsDGA                            .com                      Domain  \\\n",
       "1335144      1                 jqowgilsuqc.com                 jqowgilsuqc   \n",
       "161296       0                       ev.kck.st                         kck   \n",
       "30045        1  6ly1b3mlrqns18jlk7n1invidu.org  6ly1b3mlrqns18jlk7n1invidu   \n",
       "859228       1                    ageysaiq.net                    ageysaiq   \n",
       "141716       0                 m37.rdenyxw.com                     rdenyxw   \n",
       "\n",
       "         Length  Numbers   Entropy  \n",
       "1335144      11        0  3.277613  \n",
       "161296        3        0  0.918296  \n",
       "30045        26        7  4.074876  \n",
       "859228        8        0  2.750000  \n",
       "141716        7        0  2.807355  "
      ]
     },
     "execution_count": 29,
     "metadata": {},
     "output_type": "execute_result"
    }
   ],
   "source": [
    "domain_final.sample(5)"
   ]
  },
  {
   "cell_type": "code",
   "execution_count": 30,
   "metadata": {},
   "outputs": [],
   "source": [
    "# function finding an index of the first number in domain names\n",
    "def first_digit_index(x):\n",
    "    n = re.search (\"\\d\", x)\n",
    "    if n:\n",
    "        index = n.start()\n",
    "        return index\n",
    "    else:\n",
    "        return -1"
   ]
  },
  {
   "cell_type": "code",
   "execution_count": 31,
   "metadata": {},
   "outputs": [],
   "source": [
    "# Add first_digit_index feature\n",
    "domain_final['first_digit_index']= domain_final ['Domain'].apply(first_digit_index)"
   ]
  },
  {
   "cell_type": "code",
   "execution_count": 52,
   "metadata": {},
   "outputs": [
    {
     "data": {
      "text/html": [
       "<div>\n",
       "<style scoped>\n",
       "    .dataframe tbody tr th:only-of-type {\n",
       "        vertical-align: middle;\n",
       "    }\n",
       "\n",
       "    .dataframe tbody tr th {\n",
       "        vertical-align: top;\n",
       "    }\n",
       "\n",
       "    .dataframe thead th {\n",
       "        text-align: right;\n",
       "    }\n",
       "</style>\n",
       "<table border=\"1\" class=\"dataframe\">\n",
       "  <thead>\n",
       "    <tr style=\"text-align: right;\">\n",
       "      <th></th>\n",
       "      <th>IsDGA</th>\n",
       "      <th>.com</th>\n",
       "      <th>Domain</th>\n",
       "      <th>Length</th>\n",
       "      <th>Numbers</th>\n",
       "      <th>Entropy</th>\n",
       "      <th>first_digit_index</th>\n",
       "      <th>vowel_consonant_ratio</th>\n",
       "    </tr>\n",
       "  </thead>\n",
       "  <tbody>\n",
       "    <tr>\n",
       "      <th>52328</th>\n",
       "      <td>0</td>\n",
       "      <td>buy123.com.tw</td>\n",
       "      <td>buy123</td>\n",
       "      <td>6</td>\n",
       "      <td>3</td>\n",
       "      <td>2.584963</td>\n",
       "      <td>3</td>\n",
       "      <td>0.500000</td>\n",
       "    </tr>\n",
       "    <tr>\n",
       "      <th>170422</th>\n",
       "      <td>0</td>\n",
       "      <td>ad.ddl.ogq.me</td>\n",
       "      <td>ogq</td>\n",
       "      <td>3</td>\n",
       "      <td>0</td>\n",
       "      <td>1.584963</td>\n",
       "      <td>-1</td>\n",
       "      <td>0.500000</td>\n",
       "    </tr>\n",
       "    <tr>\n",
       "      <th>127140</th>\n",
       "      <td>0</td>\n",
       "      <td>m41.ytqclfk.net</td>\n",
       "      <td>ytqclfk</td>\n",
       "      <td>7</td>\n",
       "      <td>0</td>\n",
       "      <td>2.807355</td>\n",
       "      <td>-1</td>\n",
       "      <td>0.000000</td>\n",
       "    </tr>\n",
       "    <tr>\n",
       "      <th>68150</th>\n",
       "      <td>0</td>\n",
       "      <td>prod.update-bridge.avira.net</td>\n",
       "      <td>avira</td>\n",
       "      <td>5</td>\n",
       "      <td>0</td>\n",
       "      <td>1.921928</td>\n",
       "      <td>-1</td>\n",
       "      <td>1.500000</td>\n",
       "    </tr>\n",
       "    <tr>\n",
       "      <th>211411</th>\n",
       "      <td>0</td>\n",
       "      <td>stbhealthprod.dishnetwork.com</td>\n",
       "      <td>dishnetwork</td>\n",
       "      <td>11</td>\n",
       "      <td>0</td>\n",
       "      <td>3.459432</td>\n",
       "      <td>-1</td>\n",
       "      <td>0.375000</td>\n",
       "    </tr>\n",
       "    <tr>\n",
       "      <th>127677</th>\n",
       "      <td>0</td>\n",
       "      <td>m15.bzbrwsq.cc</td>\n",
       "      <td>bzbrwsq</td>\n",
       "      <td>7</td>\n",
       "      <td>0</td>\n",
       "      <td>2.521641</td>\n",
       "      <td>-1</td>\n",
       "      <td>0.000000</td>\n",
       "    </tr>\n",
       "    <tr>\n",
       "      <th>646523</th>\n",
       "      <td>1</td>\n",
       "      <td>kpxpmhogddkc.com</td>\n",
       "      <td>kpxpmhogddkc</td>\n",
       "      <td>12</td>\n",
       "      <td>0</td>\n",
       "      <td>3.084963</td>\n",
       "      <td>-1</td>\n",
       "      <td>0.090909</td>\n",
       "    </tr>\n",
       "    <tr>\n",
       "      <th>152017</th>\n",
       "      <td>0</td>\n",
       "      <td>c.la10.salesforceliveagent.com</td>\n",
       "      <td>salesforceliveagent</td>\n",
       "      <td>19</td>\n",
       "      <td>0</td>\n",
       "      <td>3.511085</td>\n",
       "      <td>-1</td>\n",
       "      <td>0.727273</td>\n",
       "    </tr>\n",
       "    <tr>\n",
       "      <th>186097</th>\n",
       "      <td>0</td>\n",
       "      <td>m16.ymdtjbm.cc</td>\n",
       "      <td>ymdtjbm</td>\n",
       "      <td>7</td>\n",
       "      <td>0</td>\n",
       "      <td>2.521641</td>\n",
       "      <td>-1</td>\n",
       "      <td>0.000000</td>\n",
       "    </tr>\n",
       "    <tr>\n",
       "      <th>885424</th>\n",
       "      <td>1</td>\n",
       "      <td>pajyfsn.org</td>\n",
       "      <td>pajyfsn</td>\n",
       "      <td>7</td>\n",
       "      <td>0</td>\n",
       "      <td>2.807355</td>\n",
       "      <td>-1</td>\n",
       "      <td>0.166667</td>\n",
       "    </tr>\n",
       "    <tr>\n",
       "      <th>541404</th>\n",
       "      <td>1</td>\n",
       "      <td>twkltuxyqvvp.com</td>\n",
       "      <td>twkltuxyqvvp</td>\n",
       "      <td>12</td>\n",
       "      <td>0</td>\n",
       "      <td>3.251629</td>\n",
       "      <td>-1</td>\n",
       "      <td>0.090909</td>\n",
       "    </tr>\n",
       "    <tr>\n",
       "      <th>536802</th>\n",
       "      <td>1</td>\n",
       "      <td>bkbursdelsun.com</td>\n",
       "      <td>bkbursdelsun</td>\n",
       "      <td>12</td>\n",
       "      <td>0</td>\n",
       "      <td>3.084963</td>\n",
       "      <td>-1</td>\n",
       "      <td>0.333333</td>\n",
       "    </tr>\n",
       "    <tr>\n",
       "      <th>612761</th>\n",
       "      <td>1</td>\n",
       "      <td>hhkbhinoihyc.com</td>\n",
       "      <td>hhkbhinoihyc</td>\n",
       "      <td>12</td>\n",
       "      <td>0</td>\n",
       "      <td>2.751629</td>\n",
       "      <td>-1</td>\n",
       "      <td>0.333333</td>\n",
       "    </tr>\n",
       "    <tr>\n",
       "      <th>167698</th>\n",
       "      <td>0</td>\n",
       "      <td>m4.zghgjhk.com</td>\n",
       "      <td>zghgjhk</td>\n",
       "      <td>7</td>\n",
       "      <td>0</td>\n",
       "      <td>2.235926</td>\n",
       "      <td>-1</td>\n",
       "      <td>0.000000</td>\n",
       "    </tr>\n",
       "    <tr>\n",
       "      <th>894619</th>\n",
       "      <td>1</td>\n",
       "      <td>uobpryeoya.info</td>\n",
       "      <td>uobpryeoya</td>\n",
       "      <td>10</td>\n",
       "      <td>0</td>\n",
       "      <td>2.921928</td>\n",
       "      <td>-1</td>\n",
       "      <td>1.000000</td>\n",
       "    </tr>\n",
       "    <tr>\n",
       "      <th>54994</th>\n",
       "      <td>0</td>\n",
       "      <td>api.ookla.com</td>\n",
       "      <td>ookla</td>\n",
       "      <td>5</td>\n",
       "      <td>0</td>\n",
       "      <td>1.921928</td>\n",
       "      <td>-1</td>\n",
       "      <td>1.500000</td>\n",
       "    </tr>\n",
       "    <tr>\n",
       "      <th>110033</th>\n",
       "      <td>0</td>\n",
       "      <td>server-53.deeponlines.com</td>\n",
       "      <td>deeponlines</td>\n",
       "      <td>11</td>\n",
       "      <td>0</td>\n",
       "      <td>2.845351</td>\n",
       "      <td>-1</td>\n",
       "      <td>0.833333</td>\n",
       "    </tr>\n",
       "    <tr>\n",
       "      <th>182642</th>\n",
       "      <td>0</td>\n",
       "      <td>m38.ncnijgb.com</td>\n",
       "      <td>ncnijgb</td>\n",
       "      <td>7</td>\n",
       "      <td>0</td>\n",
       "      <td>2.521641</td>\n",
       "      <td>-1</td>\n",
       "      <td>0.166667</td>\n",
       "    </tr>\n",
       "    <tr>\n",
       "      <th>201691</th>\n",
       "      <td>0</td>\n",
       "      <td>ed.ns.cloudflare.com</td>\n",
       "      <td>cloudflare</td>\n",
       "      <td>10</td>\n",
       "      <td>0</td>\n",
       "      <td>3.121928</td>\n",
       "      <td>-1</td>\n",
       "      <td>0.666667</td>\n",
       "    </tr>\n",
       "    <tr>\n",
       "      <th>175961</th>\n",
       "      <td>0</td>\n",
       "      <td>r14s579.vcdn.vn</td>\n",
       "      <td>vcdn</td>\n",
       "      <td>4</td>\n",
       "      <td>0</td>\n",
       "      <td>2.000000</td>\n",
       "      <td>-1</td>\n",
       "      <td>0.000000</td>\n",
       "    </tr>\n",
       "  </tbody>\n",
       "</table>\n",
       "</div>"
      ],
      "text/plain": [
       "        IsDGA                            .com               Domain  Length  \\\n",
       "52328       0                   buy123.com.tw               buy123       6   \n",
       "170422      0                   ad.ddl.ogq.me                  ogq       3   \n",
       "127140      0                 m41.ytqclfk.net              ytqclfk       7   \n",
       "68150       0    prod.update-bridge.avira.net                avira       5   \n",
       "211411      0   stbhealthprod.dishnetwork.com          dishnetwork      11   \n",
       "127677      0                  m15.bzbrwsq.cc              bzbrwsq       7   \n",
       "646523      1                kpxpmhogddkc.com         kpxpmhogddkc      12   \n",
       "152017      0  c.la10.salesforceliveagent.com  salesforceliveagent      19   \n",
       "186097      0                  m16.ymdtjbm.cc              ymdtjbm       7   \n",
       "885424      1                     pajyfsn.org              pajyfsn       7   \n",
       "541404      1                twkltuxyqvvp.com         twkltuxyqvvp      12   \n",
       "536802      1                bkbursdelsun.com         bkbursdelsun      12   \n",
       "612761      1                hhkbhinoihyc.com         hhkbhinoihyc      12   \n",
       "167698      0                  m4.zghgjhk.com              zghgjhk       7   \n",
       "894619      1                 uobpryeoya.info           uobpryeoya      10   \n",
       "54994       0                   api.ookla.com                ookla       5   \n",
       "110033      0       server-53.deeponlines.com          deeponlines      11   \n",
       "182642      0                 m38.ncnijgb.com              ncnijgb       7   \n",
       "201691      0            ed.ns.cloudflare.com           cloudflare      10   \n",
       "175961      0                 r14s579.vcdn.vn                 vcdn       4   \n",
       "\n",
       "        Numbers   Entropy  first_digit_index  vowel_consonant_ratio  \n",
       "52328         3  2.584963                  3               0.500000  \n",
       "170422        0  1.584963                 -1               0.500000  \n",
       "127140        0  2.807355                 -1               0.000000  \n",
       "68150         0  1.921928                 -1               1.500000  \n",
       "211411        0  3.459432                 -1               0.375000  \n",
       "127677        0  2.521641                 -1               0.000000  \n",
       "646523        0  3.084963                 -1               0.090909  \n",
       "152017        0  3.511085                 -1               0.727273  \n",
       "186097        0  2.521641                 -1               0.000000  \n",
       "885424        0  2.807355                 -1               0.166667  \n",
       "541404        0  3.251629                 -1               0.090909  \n",
       "536802        0  3.084963                 -1               0.333333  \n",
       "612761        0  2.751629                 -1               0.333333  \n",
       "167698        0  2.235926                 -1               0.000000  \n",
       "894619        0  2.921928                 -1               1.000000  \n",
       "54994         0  1.921928                 -1               1.500000  \n",
       "110033        0  2.845351                 -1               0.833333  \n",
       "182642        0  2.521641                 -1               0.166667  \n",
       "201691        0  3.121928                 -1               0.666667  \n",
       "175961        0  2.000000                 -1               0.000000  "
      ]
     },
     "execution_count": 52,
     "metadata": {},
     "output_type": "execute_result"
    }
   ],
   "source": [
    "domain_final.sample(20)"
   ]
  },
  {
   "cell_type": "code",
   "execution_count": 33,
   "metadata": {},
   "outputs": [],
   "source": [
    "# function calculating vowel to consonant ratio\n",
    "def vowel_consonant_ratio (x):\n",
    "    x = x.lower()\n",
    "    pattern_vowels = re.compile('([aeiou])')\n",
    "    pattern_consonants = re.compile('[b-df-hj-np-tv-z]')\n",
    "    vowels = re.findall(pattern_vowels, x)\n",
    "    consonants = re.findall(pattern_consonants, x)\n",
    "    try:\n",
    "        ratio = len(vowels)/len(consonants)\n",
    "    #exclue calculating 0 devision\n",
    "    except: \n",
    "        ratio = 0\n",
    "    return ratio\n",
    "    "
   ]
  },
  {
   "cell_type": "code",
   "execution_count": 34,
   "metadata": {},
   "outputs": [],
   "source": [
    "# Add a feature, vowel_consonant_ratio\n",
    "domain_final['vowel_consonant_ratio']= domain_final ['Domain'].apply(vowel_consonant_ratio)"
   ]
  },
  {
   "cell_type": "code",
   "execution_count": 35,
   "metadata": {},
   "outputs": [
    {
     "data": {
      "text/html": [
       "<div>\n",
       "<style scoped>\n",
       "    .dataframe tbody tr th:only-of-type {\n",
       "        vertical-align: middle;\n",
       "    }\n",
       "\n",
       "    .dataframe tbody tr th {\n",
       "        vertical-align: top;\n",
       "    }\n",
       "\n",
       "    .dataframe thead th {\n",
       "        text-align: right;\n",
       "    }\n",
       "</style>\n",
       "<table border=\"1\" class=\"dataframe\">\n",
       "  <thead>\n",
       "    <tr style=\"text-align: right;\">\n",
       "      <th></th>\n",
       "      <th>IsDGA</th>\n",
       "      <th>.com</th>\n",
       "      <th>Domain</th>\n",
       "      <th>Length</th>\n",
       "      <th>Numbers</th>\n",
       "      <th>Entropy</th>\n",
       "      <th>first_digit_index</th>\n",
       "      <th>vowel_consonant_ratio</th>\n",
       "    </tr>\n",
       "  </thead>\n",
       "  <tbody>\n",
       "    <tr>\n",
       "      <th>182124</th>\n",
       "      <td>0</td>\n",
       "      <td>chinsu.kokomi.top</td>\n",
       "      <td>kokomi</td>\n",
       "      <td>6</td>\n",
       "      <td>0</td>\n",
       "      <td>1.918296</td>\n",
       "      <td>-1</td>\n",
       "      <td>1.000000</td>\n",
       "    </tr>\n",
       "    <tr>\n",
       "      <th>568973</th>\n",
       "      <td>1</td>\n",
       "      <td>vopycem.com</td>\n",
       "      <td>vopycem</td>\n",
       "      <td>7</td>\n",
       "      <td>0</td>\n",
       "      <td>2.807355</td>\n",
       "      <td>-1</td>\n",
       "      <td>0.400000</td>\n",
       "    </tr>\n",
       "    <tr>\n",
       "      <th>876688</th>\n",
       "      <td>1</td>\n",
       "      <td>kiqsgeiq.biz</td>\n",
       "      <td>kiqsgeiq</td>\n",
       "      <td>8</td>\n",
       "      <td>0</td>\n",
       "      <td>2.500000</td>\n",
       "      <td>-1</td>\n",
       "      <td>0.600000</td>\n",
       "    </tr>\n",
       "    <tr>\n",
       "      <th>8279</th>\n",
       "      <td>0</td>\n",
       "      <td>loggly.com</td>\n",
       "      <td>loggly</td>\n",
       "      <td>6</td>\n",
       "      <td>0</td>\n",
       "      <td>1.918296</td>\n",
       "      <td>-1</td>\n",
       "      <td>0.200000</td>\n",
       "    </tr>\n",
       "    <tr>\n",
       "      <th>136251</th>\n",
       "      <td>0</td>\n",
       "      <td>m16.itzaxrk.biz</td>\n",
       "      <td>itzaxrk</td>\n",
       "      <td>7</td>\n",
       "      <td>0</td>\n",
       "      <td>2.807355</td>\n",
       "      <td>-1</td>\n",
       "      <td>0.400000</td>\n",
       "    </tr>\n",
       "    <tr>\n",
       "      <th>1343257</th>\n",
       "      <td>1</td>\n",
       "      <td>svxcaxogia.com</td>\n",
       "      <td>svxcaxogia</td>\n",
       "      <td>10</td>\n",
       "      <td>0</td>\n",
       "      <td>2.921928</td>\n",
       "      <td>-1</td>\n",
       "      <td>0.666667</td>\n",
       "    </tr>\n",
       "    <tr>\n",
       "      <th>35751</th>\n",
       "      <td>0</td>\n",
       "      <td>z.cesuyun.cn</td>\n",
       "      <td>cesuyun</td>\n",
       "      <td>7</td>\n",
       "      <td>0</td>\n",
       "      <td>2.521641</td>\n",
       "      <td>-1</td>\n",
       "      <td>0.750000</td>\n",
       "    </tr>\n",
       "    <tr>\n",
       "      <th>15387</th>\n",
       "      <td>0</td>\n",
       "      <td>p001.sb.avast.com</td>\n",
       "      <td>avast</td>\n",
       "      <td>5</td>\n",
       "      <td>0</td>\n",
       "      <td>1.921928</td>\n",
       "      <td>-1</td>\n",
       "      <td>0.666667</td>\n",
       "    </tr>\n",
       "    <tr>\n",
       "      <th>143207</th>\n",
       "      <td>0</td>\n",
       "      <td>teads.mgr.consensu.org</td>\n",
       "      <td>consensu</td>\n",
       "      <td>8</td>\n",
       "      <td>0</td>\n",
       "      <td>2.500000</td>\n",
       "      <td>-1</td>\n",
       "      <td>0.600000</td>\n",
       "    </tr>\n",
       "    <tr>\n",
       "      <th>197466</th>\n",
       "      <td>0</td>\n",
       "      <td>api.jotform.com</td>\n",
       "      <td>jotform</td>\n",
       "      <td>7</td>\n",
       "      <td>0</td>\n",
       "      <td>2.521641</td>\n",
       "      <td>-1</td>\n",
       "      <td>0.400000</td>\n",
       "    </tr>\n",
       "    <tr>\n",
       "      <th>607691</th>\n",
       "      <td>1</td>\n",
       "      <td>okqckhqvqdupccxwdil.com</td>\n",
       "      <td>okqckhqvqdupccxwdil</td>\n",
       "      <td>19</td>\n",
       "      <td>0</td>\n",
       "      <td>3.536887</td>\n",
       "      <td>-1</td>\n",
       "      <td>0.187500</td>\n",
       "    </tr>\n",
       "    <tr>\n",
       "      <th>557138</th>\n",
       "      <td>1</td>\n",
       "      <td>umxggmrehpdd.info</td>\n",
       "      <td>umxggmrehpdd</td>\n",
       "      <td>12</td>\n",
       "      <td>0</td>\n",
       "      <td>3.084963</td>\n",
       "      <td>-1</td>\n",
       "      <td>0.200000</td>\n",
       "    </tr>\n",
       "    <tr>\n",
       "      <th>194225</th>\n",
       "      <td>0</td>\n",
       "      <td>r3---sn-npoeenl7.c.2mdn.net</td>\n",
       "      <td>2mdn</td>\n",
       "      <td>4</td>\n",
       "      <td>1</td>\n",
       "      <td>2.000000</td>\n",
       "      <td>0</td>\n",
       "      <td>0.000000</td>\n",
       "    </tr>\n",
       "    <tr>\n",
       "      <th>82486</th>\n",
       "      <td>0</td>\n",
       "      <td>notifier-01.escapefromtarkov.com</td>\n",
       "      <td>escapefromtarkov</td>\n",
       "      <td>16</td>\n",
       "      <td>0</td>\n",
       "      <td>3.500000</td>\n",
       "      <td>-1</td>\n",
       "      <td>0.600000</td>\n",
       "    </tr>\n",
       "    <tr>\n",
       "      <th>98507</th>\n",
       "      <td>0</td>\n",
       "      <td>m14.zgubfmx.org</td>\n",
       "      <td>zgubfmx</td>\n",
       "      <td>7</td>\n",
       "      <td>0</td>\n",
       "      <td>2.807355</td>\n",
       "      <td>-1</td>\n",
       "      <td>0.166667</td>\n",
       "    </tr>\n",
       "    <tr>\n",
       "      <th>603776</th>\n",
       "      <td>1</td>\n",
       "      <td>ifdehgfemnsx.info</td>\n",
       "      <td>ifdehgfemnsx</td>\n",
       "      <td>12</td>\n",
       "      <td>0</td>\n",
       "      <td>3.251629</td>\n",
       "      <td>-1</td>\n",
       "      <td>0.333333</td>\n",
       "    </tr>\n",
       "    <tr>\n",
       "      <th>551584</th>\n",
       "      <td>1</td>\n",
       "      <td>xiyjrlovqrsp.com</td>\n",
       "      <td>xiyjrlovqrsp</td>\n",
       "      <td>12</td>\n",
       "      <td>0</td>\n",
       "      <td>3.418296</td>\n",
       "      <td>-1</td>\n",
       "      <td>0.200000</td>\n",
       "    </tr>\n",
       "    <tr>\n",
       "      <th>622707</th>\n",
       "      <td>1</td>\n",
       "      <td>osogugfexsmt.xyz</td>\n",
       "      <td>osogugfexsmt</td>\n",
       "      <td>12</td>\n",
       "      <td>0</td>\n",
       "      <td>3.084963</td>\n",
       "      <td>-1</td>\n",
       "      <td>0.500000</td>\n",
       "    </tr>\n",
       "    <tr>\n",
       "      <th>68577</th>\n",
       "      <td>0</td>\n",
       "      <td>security.ludashi.com</td>\n",
       "      <td>ludashi</td>\n",
       "      <td>7</td>\n",
       "      <td>0</td>\n",
       "      <td>2.807355</td>\n",
       "      <td>-1</td>\n",
       "      <td>0.750000</td>\n",
       "    </tr>\n",
       "    <tr>\n",
       "      <th>49091</th>\n",
       "      <td>0</td>\n",
       "      <td>ioc-gw-prod-cp-us.sentinelone.net</td>\n",
       "      <td>sentinelone</td>\n",
       "      <td>11</td>\n",
       "      <td>0</td>\n",
       "      <td>2.594907</td>\n",
       "      <td>-1</td>\n",
       "      <td>0.833333</td>\n",
       "    </tr>\n",
       "  </tbody>\n",
       "</table>\n",
       "</div>"
      ],
      "text/plain": [
       "         IsDGA                               .com               Domain  \\\n",
       "182124       0                  chinsu.kokomi.top               kokomi   \n",
       "568973       1                        vopycem.com              vopycem   \n",
       "876688       1                       kiqsgeiq.biz             kiqsgeiq   \n",
       "8279         0                         loggly.com               loggly   \n",
       "136251       0                    m16.itzaxrk.biz              itzaxrk   \n",
       "1343257      1                     svxcaxogia.com           svxcaxogia   \n",
       "35751        0                       z.cesuyun.cn              cesuyun   \n",
       "15387        0                  p001.sb.avast.com                avast   \n",
       "143207       0             teads.mgr.consensu.org             consensu   \n",
       "197466       0                    api.jotform.com              jotform   \n",
       "607691       1            okqckhqvqdupccxwdil.com  okqckhqvqdupccxwdil   \n",
       "557138       1                  umxggmrehpdd.info         umxggmrehpdd   \n",
       "194225       0        r3---sn-npoeenl7.c.2mdn.net                 2mdn   \n",
       "82486        0   notifier-01.escapefromtarkov.com     escapefromtarkov   \n",
       "98507        0                    m14.zgubfmx.org              zgubfmx   \n",
       "603776       1                  ifdehgfemnsx.info         ifdehgfemnsx   \n",
       "551584       1                   xiyjrlovqrsp.com         xiyjrlovqrsp   \n",
       "622707       1                   osogugfexsmt.xyz         osogugfexsmt   \n",
       "68577        0               security.ludashi.com              ludashi   \n",
       "49091        0  ioc-gw-prod-cp-us.sentinelone.net          sentinelone   \n",
       "\n",
       "         Length  Numbers   Entropy  first_digit_index  vowel_consonant_ratio  \n",
       "182124        6        0  1.918296                 -1               1.000000  \n",
       "568973        7        0  2.807355                 -1               0.400000  \n",
       "876688        8        0  2.500000                 -1               0.600000  \n",
       "8279          6        0  1.918296                 -1               0.200000  \n",
       "136251        7        0  2.807355                 -1               0.400000  \n",
       "1343257      10        0  2.921928                 -1               0.666667  \n",
       "35751         7        0  2.521641                 -1               0.750000  \n",
       "15387         5        0  1.921928                 -1               0.666667  \n",
       "143207        8        0  2.500000                 -1               0.600000  \n",
       "197466        7        0  2.521641                 -1               0.400000  \n",
       "607691       19        0  3.536887                 -1               0.187500  \n",
       "557138       12        0  3.084963                 -1               0.200000  \n",
       "194225        4        1  2.000000                  0               0.000000  \n",
       "82486        16        0  3.500000                 -1               0.600000  \n",
       "98507         7        0  2.807355                 -1               0.166667  \n",
       "603776       12        0  3.251629                 -1               0.333333  \n",
       "551584       12        0  3.418296                 -1               0.200000  \n",
       "622707       12        0  3.084963                 -1               0.500000  \n",
       "68577         7        0  2.807355                 -1               0.750000  \n",
       "49091        11        0  2.594907                 -1               0.833333  "
      ]
     },
     "execution_count": 35,
     "metadata": {},
     "output_type": "execute_result"
    }
   ],
   "source": [
    "domain_final.sample(20)"
   ]
  },
  {
   "cell_type": "code",
   "execution_count": 36,
   "metadata": {},
   "outputs": [],
   "source": [
    "#Save df as csv for ML modelling\n",
    "domain_final.to_csv('domain_final_features_moredata.csv')"
   ]
  },
  {
   "cell_type": "code",
   "execution_count": 37,
   "metadata": {},
   "outputs": [],
   "source": [
    "#Saving feature names and target column name separately \n",
    "feature_names = ['Length', 'Numbers', 'Entropy', 'first_digit_index', 'vowel_consonant_ratio']\n",
    "features = domain_final[feature_names]\n",
    "target =domain_final ['IsDGA']"
   ]
  },
  {
   "cell_type": "code",
   "execution_count": 38,
   "metadata": {},
   "outputs": [
    {
     "data": {
      "text/plain": [
       "1    213695\n",
       "0    213695\n",
       "Name: IsDGA, dtype: int64"
      ]
     },
     "execution_count": 38,
     "metadata": {},
     "output_type": "execute_result"
    }
   ],
   "source": [
    "target.value_counts()"
   ]
  },
  {
   "cell_type": "code",
   "execution_count": 39,
   "metadata": {},
   "outputs": [
    {
     "data": {
      "image/png": "[encoded data removed]",
      "text/plain": [
       "<Figure size 576x396 with 2 Axes>"
      ]
     },
     "metadata": {},
     "output_type": "display_data"
    },
    {
     "data": {
      "text/plain": [
       "<AxesSubplot:title={'center':'Pearson Ranking of 5 Features'}>"
      ]
     },
     "execution_count": 39,
     "metadata": {},
     "output_type": "execute_result"
    }
   ],
   "source": [
    "#  to see correlation among features using pearson algorithm, Rank2D from yellowbrick\n",
    "visualizer = Rank2D (algorithms = 'pearson', features = feature_names)\n",
    "visualizer.fit_transform(features)\n",
    "visualizer.poof()"
   ]
  },
  {
   "cell_type": "code",
   "execution_count": 41,
   "metadata": {},
   "outputs": [
    {
     "data": {
      "image/png": "[encoded data removed]",
      "text/plain": [
       "<Figure size 576x396 with 2 Axes>"
      ]
     },
     "metadata": {},
     "output_type": "display_data"
    },
    {
     "data": {
      "text/plain": [
       "<AxesSubplot:title={'center':'Pearson Ranking of 5 Features'}>"
      ]
     },
     "execution_count": 41,
     "metadata": {},
     "output_type": "execute_result"
    }
   ],
   "source": [
    "#  to see correlation among features using covariance algorithm, Rank2D from yellowbrick\n",
    "visualizer = Rank2D (algorithms = 'covariance', features = feature_names)\n",
    "visualizer.fit_transform(features)\n",
    "visualizer.poof()"
   ]
  },
  {
   "cell_type": "code",
   "execution_count": 42,
   "metadata": {},
   "outputs": [
    {
     "name": "stderr",
     "output_type": "stream",
     "text": [
      "/Users/hm/anaconda3/lib/python3.8/site-packages/yellowbrick/features/radviz.py:199: RuntimeWarning: invalid value encountered in true_divide\n",
      "  xy = (s * row_).sum(axis=0) / row.sum()\n"
     ]
    },
    {
     "data": {
      "image/png": "[encoded data removed]",
      "text/plain": [
       "<Figure size 576x396 with 1 Axes>"
      ]
     },
     "metadata": {},
     "output_type": "display_data"
    },
    {
     "data": {
      "text/plain": [
       "<AxesSubplot:title={'center':'RadViz for 5 Features'}>"
      ]
     },
     "execution_count": 42,
     "metadata": {},
     "output_type": "execute_result"
    }
   ],
   "source": [
    "# multivariate data visualization, RadViz from yellowbrick\n",
    "X = domain_final[feature_names].to_numpy()\n",
    "y = domain_final['IsDGA'].to_numpy()\n",
    "\n",
    "radvisualizer = RadViz(classes = ['Benign', 'DGA'], features = feature_names )\n",
    "radvisualizer.fit_transform(X, y)\n",
    "radvisualizer.poof()"
   ]
  },
  {
   "cell_type": "code",
   "execution_count": 44,
   "metadata": {},
   "outputs": [
    {
     "data": {
      "image/png": "[encoded data removed]",
      "text/plain": [
       "<Figure size 943.25x900 with 30 Axes>"
      ]
     },
     "metadata": {},
     "output_type": "display_data"
    }
   ],
   "source": [
    "# pairplot, seaborn\n",
    "g=sns.pairplot(domain_final, vars= feature_names, hue = 'IsDGA', kind='hex')"
   ]
  },
  {
   "cell_type": "code",
   "execution_count": 45,
   "metadata": {},
   "outputs": [
    {
     "data": {
      "text/plain": [
       "<AxesSubplot:xlabel='Entropy', ylabel='Count'>"
      ]
     },
     "execution_count": 45,
     "metadata": {},
     "output_type": "execute_result"
    },
    {
     "data": {
      "image/png": "[encoded data removed]",
      "text/plain": [
       "<Figure size 576x396 with 1 Axes>"
      ]
     },
     "metadata": {},
     "output_type": "display_data"
    }
   ],
   "source": [
    "# histplot, seaborn\n",
    "sns.histplot(domain_final, x=\"Entropy\", hue=\"IsDGA\", element=\"step\")"
   ]
  },
  {
   "cell_type": "code",
   "execution_count": 46,
   "metadata": {
    "scrolled": true
   },
   "outputs": [
    {
     "data": {
      "text/plain": [
       "<AxesSubplot:xlabel='Length', ylabel='Count'>"
      ]
     },
     "execution_count": 46,
     "metadata": {},
     "output_type": "execute_result"
    },
    {
     "data": {
      "image/png": "[encoded data removed]",
      "text/plain": [
       "<Figure size 576x396 with 1 Axes>"
      ]
     },
     "metadata": {},
     "output_type": "display_data"
    }
   ],
   "source": [
    "sns.histplot(domain_final, x=\"Length\", hue=\"IsDGA\", element=\"step\")"
   ]
  },
  {
   "cell_type": "code",
   "execution_count": 47,
   "metadata": {},
   "outputs": [
    {
     "data": {
      "text/plain": [
       "<AxesSubplot:xlabel='first_digit_index', ylabel='Count'>"
      ]
     },
     "execution_count": 47,
     "metadata": {},
     "output_type": "execute_result"
    },
    {
     "data": {
      "image/png": "[encoded data removed]",
      "text/plain": [
       "<Figure size 576x396 with 1 Axes>"
      ]
     },
     "metadata": {},
     "output_type": "display_data"
    }
   ],
   "source": [
    "sns.histplot(domain_final, x=\"first_digit_index\", hue=\"IsDGA\", element=\"step\")"
   ]
  },
  {
   "cell_type": "code",
   "execution_count": 48,
   "metadata": {},
   "outputs": [
    {
     "data": {
      "text/plain": [
       "<AxesSubplot:xlabel='vowel_consonant_ratio', ylabel='Count'>"
      ]
     },
     "execution_count": 48,
     "metadata": {},
     "output_type": "execute_result"
    },
    {
     "data": {
      "image/png": "[encoded data removed]",
      "text/plain": [
       "<Figure size 576x396 with 1 Axes>"
      ]
     },
     "metadata": {},
     "output_type": "display_data"
    }
   ],
   "source": [
    "sns.histplot(domain_final, x=\"vowel_consonant_ratio\", hue=\"IsDGA\", element=\"step\")"
   ]
  }
 ],
 "metadata": {
  "kernelspec": {
   "display_name": "6.86x",
   "language": "python",
   "name": "6.86x"
  },
  "language_info": {
   "codemirror_mode": {
    "name": "ipython",
    "version": 3
   },
   "file_extension": ".py",
   "mimetype": "text/x-python",
   "name": "python",
   "nbconvert_exporter": "python",
   "pygments_lexer": "ipython3",
   "version": "3.8.5"
  }
 },
 "nbformat": 4,
 "nbformat_minor": 4
}
